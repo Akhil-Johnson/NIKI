{
  "nbformat": 4,
  "nbformat_minor": 0,
  "metadata": {
    "colab": {
      "name": "question_classification.ipynb",
      "provenance": []
    },
    "kernelspec": {
      "name": "python3",
      "display_name": "Python 3"
    }
  },
  "cells": [
    {
      "cell_type": "code",
      "metadata": {
        "id": "5B5Vl4zkDaMN",
        "colab_type": "code",
        "colab": {
          "base_uri": "https://localhost:8080/",
          "height": 103
        },
        "outputId": "0622d5f0-b272-47f8-edf4-b340d2143c12"
      },
      "source": [
        "raw_data = open('LabelledData.txt').read()\n",
        "raw_data[0:500]"
      ],
      "execution_count": 31,
      "outputs": [
        {
          "output_type": "execute_result",
          "data": {
            "application/vnd.google.colaboratory.intrinsic": {
              "type": "string"
            },
            "text/plain": [
              "\"how did serfdom develop in and then leave russia ? ,,, unknown\\nwhat films featured the character popeye doyle ? ,,, what\\nhow can i find a list of celebrities ' real names ? ,,, unknown\\nwhat fowl grabs the spotlight after the chinese year of the monkey ? ,,, what\\nwhat is the full form of .com ? ,,, what\\nwhat contemptible scoundrel stole the cork from my lunch ? ,,, what\\nwhat team did baseball 's st. louis browns become ? ,,, what\\nwhat is the oldest profession ? ,,, what\\nwhat are liver enzymes ? ,\""
            ]
          },
          "metadata": {
            "tags": []
          },
          "execution_count": 31
        }
      ]
    },
    {
      "cell_type": "code",
      "metadata": {
        "id": "tXkr4OrEDoPN",
        "colab_type": "code",
        "colab": {}
      },
      "source": [
        "parsed_data = raw_data.replace(',,,','\\n').split('\\n')"
      ],
      "execution_count": 42,
      "outputs": []
    },
    {
      "cell_type": "code",
      "metadata": {
        "id": "itzEaFaTD4Qk",
        "colab_type": "code",
        "colab": {
          "base_uri": "https://localhost:8080/",
          "height": 1000
        },
        "outputId": "0e38698b-24fa-4cd6-db15-874a7cbfb715"
      },
      "source": [
        "parsed_data[0:200]"
      ],
      "execution_count": 43,
      "outputs": [
        {
          "output_type": "execute_result",
          "data": {
            "text/plain": [
              "['how did serfdom develop in and then leave russia ? ',\n",
              " ' unknown',\n",
              " 'what films featured the character popeye doyle ? ',\n",
              " ' what',\n",
              " \"how can i find a list of celebrities ' real names ? \",\n",
              " ' unknown',\n",
              " 'what fowl grabs the spotlight after the chinese year of the monkey ? ',\n",
              " ' what',\n",
              " 'what is the full form of .com ? ',\n",
              " ' what',\n",
              " 'what contemptible scoundrel stole the cork from my lunch ? ',\n",
              " ' what',\n",
              " \"what team did baseball 's st. louis browns become ? \",\n",
              " ' what',\n",
              " 'what is the oldest profession ? ',\n",
              " ' what',\n",
              " 'what are liver enzymes ? ',\n",
              " ' what',\n",
              " 'name the scar-faced bounty hunter of the old west . ',\n",
              " ' unknown',\n",
              " 'when was ozzy osbourne born ? ',\n",
              " ' when',\n",
              " 'why do heavier objects travel downhill faster ? ',\n",
              " ' unknown',\n",
              " 'who was the pride of the yankees ? ',\n",
              " ' who',\n",
              " 'who killed gandhi ? ',\n",
              " ' who',\n",
              " 'what is considered the costliest disaster the insurance industry has ever faced ? ',\n",
              " ' what',\n",
              " 'what sprawling u.s. state boasts the most airports ? ',\n",
              " ' what',\n",
              " 'what did the only repealed amendment to the u.s. constitution deal with ? ',\n",
              " ' what',\n",
              " 'how many jews were executed in concentration camps during wwii ? ',\n",
              " ' unknown',\n",
              " \"what is `` nine inch nails '' ? \",\n",
              " ' what',\n",
              " 'what is an annotated bibliography ? ',\n",
              " ' what',\n",
              " 'what is the date of boxing day ? ',\n",
              " ' what',\n",
              " 'what articles of clothing are tokens in monopoly ? ',\n",
              " ' what',\n",
              " 'name 11 famous martyrs . ',\n",
              " ' unknown',\n",
              " \"what 's the olympic motto ? \",\n",
              " ' what',\n",
              " \"what is the origin of the name ` scarlett ' ? \",\n",
              " ' what',\n",
              " \"what 's the second-most-used vowel in english ? \",\n",
              " ' what',\n",
              " 'who was the inventor of silly putty ? ',\n",
              " ' who',\n",
              " 'what is the highest waterfall in the united states ? ',\n",
              " ' what',\n",
              " 'name a golf course in myrtle beach . ',\n",
              " ' unknown',\n",
              " 'which two states enclose chesapeake bay ? ',\n",
              " ' unknown',\n",
              " 'what does the abbreviation aids stand for ? ',\n",
              " ' what',\n",
              " 'what does a spermologer collect ? ',\n",
              " ' what',\n",
              " 'how many points make up a perfect fivepin bowling score ? ',\n",
              " ' unknown',\n",
              " \"which company that manufactures video-game hardware sells the `` super system '' ? \",\n",
              " ' unknown',\n",
              " 'how many community chest cards are there in monopoly ? ',\n",
              " ' unknown',\n",
              " 'what do mormons believe ? ',\n",
              " ' what',\n",
              " 'when did the neanderthal man live ? ',\n",
              " ' when',\n",
              " 'in what religion was isis the nature goddess ? ',\n",
              " ' what',\n",
              " \"where do the adventures of `` the swiss family robinson '' take place ? \",\n",
              " ' unknown',\n",
              " 'what relative of the racoon is sometimes known as the cat-bear ? ',\n",
              " ' what',\n",
              " 'how can i register my website in yahoo for free ? ',\n",
              " ' unknown',\n",
              " 'what was cash-conscious colonel edwin l. drake the first to drill ? ',\n",
              " ' what',\n",
              " 'how many people in the world speak french ? ',\n",
              " ' unknown',\n",
              " 'how many inches over six feet is the venus de milo ? ',\n",
              " ' unknown',\n",
              " 'how do they find or choose witnesses to an execution ? ',\n",
              " ' unknown',\n",
              " 'what 1920s cowboy star rode tony the wonder horse ? ',\n",
              " ' what',\n",
              " 'what cocktail inspired john doxat to write the book stirred-not shaken ? ',\n",
              " ' what',\n",
              " 'what isps exist in the caribbean ? ',\n",
              " ' what',\n",
              " 'how do you ask a total stranger out on a date ? ',\n",
              " ' unknown',\n",
              " 'what weapon is the mythological character apollo most proficient with ? ',\n",
              " ' what',\n",
              " 'what country do the galapagos islands belong to ? ',\n",
              " ' what',\n",
              " 'what is ethology ? ',\n",
              " ' what',\n",
              " 'who was the prophet of the muslim people ? ',\n",
              " ' who',\n",
              " \"where did the term `` 86ed '' come from ? \",\n",
              " ' unknown',\n",
              " \"who is snoopy 's arch-enemy ? \",\n",
              " ' who',\n",
              " 'what is the nature of learning ? ',\n",
              " ' what',\n",
              " \"what 's the only color johnny cash wears on stage ? \",\n",
              " ' what',\n",
              " \"what 's the term for a young fox ? \",\n",
              " ' what',\n",
              " 'what u.s. state lived under six flags ? ',\n",
              " ' what',\n",
              " 'what is the kashmir issue ? ',\n",
              " ' what',\n",
              " 'where is the loop ? ',\n",
              " ' unknown',\n",
              " \"what does `` extended definition '' mean and how would one write a paper on it ? \",\n",
              " ' what',\n",
              " \"what country 's capital is tirana ? \",\n",
              " ' what',\n",
              " 'what is titanium ? ',\n",
              " ' what',\n",
              " 'who do herb and tootsie live next door to ? ',\n",
              " ' who',\n",
              " 'which city has the oldest relationship as a sister�city with los angeles ? ',\n",
              " ' unknown',\n",
              " 'what is a caldera ? ',\n",
              " ' what',\n",
              " 'why do people get calluses ? ',\n",
              " ' unknown',\n",
              " 'what are the names of the tourist attractions in reims ? ',\n",
              " ' what',\n",
              " 'what are cushman and wakefield known for ? ',\n",
              " ' what',\n",
              " 'what body of water does the danube river flow into ? ',\n",
              " ' what',\n",
              " 'who is the founder of scientology ? ',\n",
              " ' who',\n",
              " 'what does the six-footed musca domestica become when it enters a house ? ',\n",
              " ' what',\n",
              " 'what is the history of skateboarding ? ',\n",
              " ' what',\n",
              " 'who starred in singing in the rain and the singing nun ? ',\n",
              " ' who',\n",
              " 'how do i make fuel bricks from recycled newspaper ? ',\n",
              " ' unknown',\n",
              " 'what 19th-century painter died in the marquesas islands ? ',\n",
              " ' what',\n",
              " 'the corpus callosum is in what part of the body ? ',\n",
              " ' what',\n",
              " 'how do i log on to home page at headquarters u.s. european command ? ',\n",
              " ' unknown',\n",
              " 'what country did the nazis occupy for ? . ',\n",
              " ' what',\n",
              " \"what is nebraska 's most valuable resource ? \",\n",
              " ' what',\n",
              " 'how many species of the great white shark are there ? ',\n",
              " ' unknown',\n",
              " 'what is the origin of head lice ? ',\n",
              " ' what',\n",
              " 'what is the nickname for the state of mississippi ? ',\n",
              " ' what',\n",
              " 'what was the first domesticated bird ? ',\n",
              " ' what',\n",
              " 'how many villi are found in the small intestine ? ',\n",
              " ' unknown',\n",
              " 'what country did king wenceslas rule ? ',\n",
              " ' what',\n",
              " 'what is a fear of shadows ? ',\n",
              " ' what',\n",
              " 'who were the five marx brothers ? ',\n",
              " ' who',\n",
              " 'in which year was new zealand excluded from the anzus alliance ? ',\n",
              " ' unknown',\n",
              " 'when did cnn begin broadcasting ? ',\n",
              " ' when',\n",
              " 'what causes the body to shiver in cold temperatures ? ',\n",
              " ' what',\n",
              " 'what are bear and bull markets ? ',\n",
              " ' what',\n",
              " 'what j.r.r. tolkien book features bilbo baggins as the central character ? ',\n",
              " ' what',\n",
              " \"what is `` dew point '' ? \",\n",
              " ' what',\n",
              " 'what is the meaning of jesus ? ',\n",
              " ' what',\n",
              " \"what company 's logo is a `` w '' in a circle ? \",\n",
              " ' what',\n",
              " 'what is the definition of a cascade ? ',\n",
              " ' what',\n",
              " 'when did rococo painting and architecture flourish ? ',\n",
              " ' what',\n",
              " \"what country 's national passenger rail system is called via ? \",\n",
              " ' what']"
            ]
          },
          "metadata": {
            "tags": []
          },
          "execution_count": 43
        }
      ]
    },
    {
      "cell_type": "code",
      "metadata": {
        "id": "5itue_d3EYED",
        "colab_type": "code",
        "colab": {}
      },
      "source": [
        "ques_list = parsed_data[0::2]\n",
        "label_list = parsed_data[1::2]\n"
      ],
      "execution_count": 45,
      "outputs": []
    },
    {
      "cell_type": "code",
      "metadata": {
        "id": "gFZATOoZ4BJL",
        "colab_type": "code",
        "colab": {
          "base_uri": "https://localhost:8080/",
          "height": 204
        },
        "outputId": "33c8ff08-8bcc-440f-da0e-48d34022fd35"
      },
      "source": [
        "import pandas as pd\n",
        "combined_df = pd.DataFrame({\n",
        "    'label' : label_list,\n",
        "    'ques' : ques_list[:-1]\n",
        "})\n",
        "\n",
        "combined_df.head()\n"
      ],
      "execution_count": 50,
      "outputs": [
        {
          "output_type": "execute_result",
          "data": {
            "text/html": [
              "<div>\n",
              "<style scoped>\n",
              "    .dataframe tbody tr th:only-of-type {\n",
              "        vertical-align: middle;\n",
              "    }\n",
              "\n",
              "    .dataframe tbody tr th {\n",
              "        vertical-align: top;\n",
              "    }\n",
              "\n",
              "    .dataframe thead th {\n",
              "        text-align: right;\n",
              "    }\n",
              "</style>\n",
              "<table border=\"1\" class=\"dataframe\">\n",
              "  <thead>\n",
              "    <tr style=\"text-align: right;\">\n",
              "      <th></th>\n",
              "      <th>label</th>\n",
              "      <th>ques</th>\n",
              "    </tr>\n",
              "  </thead>\n",
              "  <tbody>\n",
              "    <tr>\n",
              "      <th>0</th>\n",
              "      <td>unknown</td>\n",
              "      <td>how did serfdom develop in and then leave russ...</td>\n",
              "    </tr>\n",
              "    <tr>\n",
              "      <th>1</th>\n",
              "      <td>what</td>\n",
              "      <td>what films featured the character popeye doyle ?</td>\n",
              "    </tr>\n",
              "    <tr>\n",
              "      <th>2</th>\n",
              "      <td>unknown</td>\n",
              "      <td>how can i find a list of celebrities ' real na...</td>\n",
              "    </tr>\n",
              "    <tr>\n",
              "      <th>3</th>\n",
              "      <td>what</td>\n",
              "      <td>what fowl grabs the spotlight after the chines...</td>\n",
              "    </tr>\n",
              "    <tr>\n",
              "      <th>4</th>\n",
              "      <td>what</td>\n",
              "      <td>what is the full form of .com ?</td>\n",
              "    </tr>\n",
              "  </tbody>\n",
              "</table>\n",
              "</div>"
            ],
            "text/plain": [
              "      label                                               ques\n",
              "0   unknown  how did serfdom develop in and then leave russ...\n",
              "1      what  what films featured the character popeye doyle ? \n",
              "2   unknown  how can i find a list of celebrities ' real na...\n",
              "3      what  what fowl grabs the spotlight after the chines...\n",
              "4      what                   what is the full form of .com ? "
            ]
          },
          "metadata": {
            "tags": []
          },
          "execution_count": 50
        }
      ]
    },
    {
      "cell_type": "code",
      "metadata": {
        "id": "793BsmpD5Rs7",
        "colab_type": "code",
        "colab": {}
      },
      "source": [
        "  dataset =combined_df"
      ],
      "execution_count": 51,
      "outputs": []
    },
    {
      "cell_type": "code",
      "metadata": {
        "id": "w9yR5QGh6yPQ",
        "colab_type": "code",
        "colab": {
          "base_uri": "https://localhost:8080/",
          "height": 34
        },
        "outputId": "bed32373-7053-4a0f-fabf-943c4cda81c1"
      },
      "source": [
        "dataset.shape"
      ],
      "execution_count": 52,
      "outputs": [
        {
          "output_type": "execute_result",
          "data": {
            "text/plain": [
              "(1483, 2)"
            ]
          },
          "metadata": {
            "tags": []
          },
          "execution_count": 52
        }
      ]
    },
    {
      "cell_type": "code",
      "metadata": {
        "id": "vytgEt3g6zmX",
        "colab_type": "code",
        "colab": {
          "base_uri": "https://localhost:8080/",
          "height": 34
        },
        "outputId": "eba957e6-61a8-4527-d3c2-d9e586e77812"
      },
      "source": [
        "dataset['label'].isnull().sum()"
      ],
      "execution_count": 53,
      "outputs": [
        {
          "output_type": "execute_result",
          "data": {
            "text/plain": [
              "0"
            ]
          },
          "metadata": {
            "tags": []
          },
          "execution_count": 53
        }
      ]
    },
    {
      "cell_type": "code",
      "metadata": {
        "id": "Uj1ogzfv68t_",
        "colab_type": "code",
        "colab": {}
      },
      "source": [
        "import string\n",
        "string.punctuation\n",
        "\n",
        "def remove_punctuation(txt):\n",
        "  txt_nopunct = \"\".join([c for c in txt if c not in string.punctuation])\n",
        "  return txt_nopunct\n",
        "\n",
        "dataset['ques_clean'] = dataset['ques'].apply(lambda x : remove_punctuation(x))"
      ],
      "execution_count": 58,
      "outputs": []
    },
    {
      "cell_type": "code",
      "metadata": {
        "id": "qIjiCIcA8kux",
        "colab_type": "code",
        "colab": {
          "base_uri": "https://localhost:8080/",
          "height": 204
        },
        "outputId": "42e25dd8-cec4-482f-eea1-d8424621ccac"
      },
      "source": [
        "dataset.head()"
      ],
      "execution_count": 59,
      "outputs": [
        {
          "output_type": "execute_result",
          "data": {
            "text/html": [
              "<div>\n",
              "<style scoped>\n",
              "    .dataframe tbody tr th:only-of-type {\n",
              "        vertical-align: middle;\n",
              "    }\n",
              "\n",
              "    .dataframe tbody tr th {\n",
              "        vertical-align: top;\n",
              "    }\n",
              "\n",
              "    .dataframe thead th {\n",
              "        text-align: right;\n",
              "    }\n",
              "</style>\n",
              "<table border=\"1\" class=\"dataframe\">\n",
              "  <thead>\n",
              "    <tr style=\"text-align: right;\">\n",
              "      <th></th>\n",
              "      <th>label</th>\n",
              "      <th>ques</th>\n",
              "      <th>ques_clean</th>\n",
              "    </tr>\n",
              "  </thead>\n",
              "  <tbody>\n",
              "    <tr>\n",
              "      <th>0</th>\n",
              "      <td>unknown</td>\n",
              "      <td>how did serfdom develop in and then leave russ...</td>\n",
              "      <td>how did serfdom develop in and then leave russ...</td>\n",
              "    </tr>\n",
              "    <tr>\n",
              "      <th>1</th>\n",
              "      <td>what</td>\n",
              "      <td>what films featured the character popeye doyle ?</td>\n",
              "      <td>what films featured the character popeye doyle</td>\n",
              "    </tr>\n",
              "    <tr>\n",
              "      <th>2</th>\n",
              "      <td>unknown</td>\n",
              "      <td>how can i find a list of celebrities ' real na...</td>\n",
              "      <td>how can i find a list of celebrities  real nam...</td>\n",
              "    </tr>\n",
              "    <tr>\n",
              "      <th>3</th>\n",
              "      <td>what</td>\n",
              "      <td>what fowl grabs the spotlight after the chines...</td>\n",
              "      <td>what fowl grabs the spotlight after the chines...</td>\n",
              "    </tr>\n",
              "    <tr>\n",
              "      <th>4</th>\n",
              "      <td>what</td>\n",
              "      <td>what is the full form of .com ?</td>\n",
              "      <td>what is the full form of com</td>\n",
              "    </tr>\n",
              "  </tbody>\n",
              "</table>\n",
              "</div>"
            ],
            "text/plain": [
              "      label  ...                                         ques_clean\n",
              "0   unknown  ...  how did serfdom develop in and then leave russ...\n",
              "1      what  ...   what films featured the character popeye doyle  \n",
              "2   unknown  ...  how can i find a list of celebrities  real nam...\n",
              "3      what  ...  what fowl grabs the spotlight after the chines...\n",
              "4      what  ...                     what is the full form of com  \n",
              "\n",
              "[5 rows x 3 columns]"
            ]
          },
          "metadata": {
            "tags": []
          },
          "execution_count": 59
        }
      ]
    },
    {
      "cell_type": "code",
      "metadata": {
        "id": "BVr6Jm8L8r8q",
        "colab_type": "code",
        "colab": {
          "base_uri": "https://localhost:8080/",
          "height": 255
        },
        "outputId": "c00ffc5b-d6a0-41f0-b647-bacc2e7bdaec"
      },
      "source": [
        "import re\n",
        "def tokenize(txt):\n",
        "  tokens = re.split('\\W+',txt)\n",
        "  return tokens\n",
        "\n",
        "dataset['msg_tokens'] = dataset['ques_clean'].apply(lambda x : tokenize(x.lower()))\n",
        "dataset.head()"
      ],
      "execution_count": 60,
      "outputs": [
        {
          "output_type": "execute_result",
          "data": {
            "text/html": [
              "<div>\n",
              "<style scoped>\n",
              "    .dataframe tbody tr th:only-of-type {\n",
              "        vertical-align: middle;\n",
              "    }\n",
              "\n",
              "    .dataframe tbody tr th {\n",
              "        vertical-align: top;\n",
              "    }\n",
              "\n",
              "    .dataframe thead th {\n",
              "        text-align: right;\n",
              "    }\n",
              "</style>\n",
              "<table border=\"1\" class=\"dataframe\">\n",
              "  <thead>\n",
              "    <tr style=\"text-align: right;\">\n",
              "      <th></th>\n",
              "      <th>label</th>\n",
              "      <th>ques</th>\n",
              "      <th>ques_clean</th>\n",
              "      <th>msg_tokens</th>\n",
              "    </tr>\n",
              "  </thead>\n",
              "  <tbody>\n",
              "    <tr>\n",
              "      <th>0</th>\n",
              "      <td>unknown</td>\n",
              "      <td>how did serfdom develop in and then leave russ...</td>\n",
              "      <td>how did serfdom develop in and then leave russ...</td>\n",
              "      <td>[how, did, serfdom, develop, in, and, then, le...</td>\n",
              "    </tr>\n",
              "    <tr>\n",
              "      <th>1</th>\n",
              "      <td>what</td>\n",
              "      <td>what films featured the character popeye doyle ?</td>\n",
              "      <td>what films featured the character popeye doyle</td>\n",
              "      <td>[what, films, featured, the, character, popeye...</td>\n",
              "    </tr>\n",
              "    <tr>\n",
              "      <th>2</th>\n",
              "      <td>unknown</td>\n",
              "      <td>how can i find a list of celebrities ' real na...</td>\n",
              "      <td>how can i find a list of celebrities  real nam...</td>\n",
              "      <td>[how, can, i, find, a, list, of, celebrities, ...</td>\n",
              "    </tr>\n",
              "    <tr>\n",
              "      <th>3</th>\n",
              "      <td>what</td>\n",
              "      <td>what fowl grabs the spotlight after the chines...</td>\n",
              "      <td>what fowl grabs the spotlight after the chines...</td>\n",
              "      <td>[what, fowl, grabs, the, spotlight, after, the...</td>\n",
              "    </tr>\n",
              "    <tr>\n",
              "      <th>4</th>\n",
              "      <td>what</td>\n",
              "      <td>what is the full form of .com ?</td>\n",
              "      <td>what is the full form of com</td>\n",
              "      <td>[what, is, the, full, form, of, com, ]</td>\n",
              "    </tr>\n",
              "  </tbody>\n",
              "</table>\n",
              "</div>"
            ],
            "text/plain": [
              "      label  ...                                         msg_tokens\n",
              "0   unknown  ...  [how, did, serfdom, develop, in, and, then, le...\n",
              "1      what  ...  [what, films, featured, the, character, popeye...\n",
              "2   unknown  ...  [how, can, i, find, a, list, of, celebrities, ...\n",
              "3      what  ...  [what, fowl, grabs, the, spotlight, after, the...\n",
              "4      what  ...             [what, is, the, full, form, of, com, ]\n",
              "\n",
              "[5 rows x 4 columns]"
            ]
          },
          "metadata": {
            "tags": []
          },
          "execution_count": 60
        }
      ]
    },
    {
      "cell_type": "code",
      "metadata": {
        "id": "1C-AOZZd9b4l",
        "colab_type": "code",
        "colab": {}
      },
      "source": [
        "import nltk\n",
        "stopwords  = nltk.corpus.stopwords.words('english')\n"
      ],
      "execution_count": 61,
      "outputs": []
    },
    {
      "cell_type": "code",
      "metadata": {
        "id": "--IQKOvT-dMp",
        "colab_type": "code",
        "colab": {}
      },
      "source": [
        ""
      ],
      "execution_count": null,
      "outputs": []
    }
  ]
}